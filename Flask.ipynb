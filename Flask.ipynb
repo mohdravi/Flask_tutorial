{
  "nbformat": 4,
  "nbformat_minor": 0,
  "metadata": {
    "colab": {
      "provenance": [],
      "authorship_tag": "ABX9TyMMm5IlS3ELNxo8QPW9k5uq",
      "include_colab_link": true
    },
    "kernelspec": {
      "name": "python3",
      "display_name": "Python 3"
    },
    "language_info": {
      "name": "python"
    }
  },
  "cells": [
    {
      "cell_type": "markdown",
      "metadata": {
        "id": "view-in-github",
        "colab_type": "text"
      },
      "source": [
        "<a href=\"https://colab.research.google.com/github/mohdraavi/flask_tut/blob/main/Flask.ipynb\" target=\"_parent\"><img src=\"https://colab.research.google.com/assets/colab-badge.svg\" alt=\"Open In Colab\"/></a>"
      ]
    },
    {
      "cell_type": "markdown",
      "source": [
        "#Web Framework\n",
        "Web Application Framework or simply Web Framework represents a collection of libraries and modules that enables a web application developer to write applications without having to bother about low-level details such as protocols, thread management etc."
      ],
      "metadata": {
        "id": "JxW8R4NpTAgv"
      }
    },
    {
      "cell_type": "markdown",
      "source": [
        "#Web Server Gateway Interface\n",
        "The Web Server Gateway Interface (WSGI) is a specification for a simple and universal interface between web servers and Python web applications or frameworks. It defines a standard interface that allows web servers to communicate with Python web applications, enabling the development of web applications that can run on various web servers without modification."
      ],
      "metadata": {
        "id": "eNslBwvUTUwt"
      }
    },
    {
      "cell_type": "markdown",
      "source": [
        "#Werkzeug\n",
        "It is a WSGI toolkit, which implements requests, response objects, and other utility functions. This enables building a web framework on top of it. The Flask framework uses Werkzeug as one of its bases.\n"
      ],
      "metadata": {
        "id": "x8Ugp-VyxlSM"
      }
    },
    {
      "cell_type": "markdown",
      "source": [
        "#Jinja2\n",
        "\n",
        "Jinja2 is a popular and widely used template engine for Python. It is often used in web development frameworks, such as Flask and Django, to dynamically generate HTML, XML, or other markup languages. Jinja2 allows developers to embed dynamic content and control structures directly within templates, making it easier to separate the presentation layer from the application logic.\n",
        "\n",
        "###Template Syntax:\n",
        "\n",
        "Jinja2 uses a simple and readable template syntax, which consists of tags, variables, and control statements enclosed in curly braces ({{ ... }}, {% ... %}). This syntax allows developers to embed dynamic content and logic directly within the template."
      ],
      "metadata": {
        "id": "EnwGEoKYx6DU"
      }
    },
    {
      "cell_type": "markdown",
      "source": [
        "#1: Setting Up Your Environment\n",
        "    Installing Python\n",
        "    Installing Flask\n",
        "    Creating a Virtual Environment"
      ],
      "metadata": {
        "id": "__hFPG3wyp5p"
      }
    },
    {
      "cell_type": "markdown",
      "source": [
        "Download python from given link and then install\n",
        "https://www.python.org/downloads/release/python-3120/"
      ],
      "metadata": {
        "id": "LkfpBb1Ny0Fr"
      }
    },
    {
      "cell_type": "code",
      "source": [
        "#installing flask\n",
        "pip install Flask\n",
        "from flask import Flask"
      ],
      "metadata": {
        "id": "hH6v9W7OyuC7"
      },
      "execution_count": null,
      "outputs": []
    },
    {
      "cell_type": "code",
      "source": [
        "#To create virtual envoirment\n",
        "python -m venv venv\n",
        "#to activate\n",
        "venv\\Scripts\\activate"
      ],
      "metadata": {
        "id": "My-nJKPfzK90"
      },
      "execution_count": null,
      "outputs": []
    },
    {
      "cell_type": "markdown",
      "source": [
        "#2: Your First Flask App\n",
        "    Creating a Basic Flask App\n",
        "    Understanding Routes and Views\n",
        "    Running Your Flask App"
      ],
      "metadata": {
        "id": "VDF_Qm9_0bxr"
      }
    },
    {
      "cell_type": "code",
      "source": [
        "pip install flask"
      ],
      "metadata": {
        "id": "Afn4HSN7zs5E"
      },
      "execution_count": null,
      "outputs": []
    },
    {
      "cell_type": "code",
      "source": [
        "#Now, let's create a simple Flask app. Create a file named app.py:\n",
        "from flask import Flask\n",
        "\n",
        "\n",
        "app = Flask(__name__) #Create Flask App:\n",
        "\"\"\"This line creates an instance of the Flask class. The __name__ variable is a special Python variable that is set to the\n",
        "name of the current module. It is used by Flask to determine the root path of the application.\"\"\"\n",
        "\n",
        "@app.route('/')       #Define a Route\n",
        "\n",
        "\"\"\"This line is a decorator that tells Flask\n",
        "which URL should trigger the following function. In this case, the function hello_world() will be triggered\n",
        "when the user accesses the root URL ('/')\"\"\"\n",
        "def hello_world():     #Define a View Function\n",
        "    return 'Hello, World!'\n",
        "\n",
        "if __name__ == '__main__':   #Run the App\n",
        "    app.run(debug=True)\n",
        "\"\"\"This conditional statement ensures that the development web server is only started\n",
        " if the script is executed directly (as opposed to being imported as a module in another script).\n",
        "  The debug=True parameter enables the debug mode, which provides useful debugging information in case of errors.\n",
        " When you run the script, the Flask development server starts and listens for incoming requests.\"\"\"\""
      ],
      "metadata": {
        "id": "oD78N43a0_Bn"
      },
      "execution_count": null,
      "outputs": []
    },
    {
      "cell_type": "code",
      "source": [
        "#command to run flask app\n",
        "python -m flask run"
      ],
      "metadata": {
        "id": "PXpQCqFo3XjR"
      },
      "execution_count": null,
      "outputs": []
    },
    {
      "cell_type": "markdown",
      "source": [
        "if __name__ == '__main__'::\n",
        "\n",
        "The __name__ variable is a special variable in Python that is used to determine if the Python script is being run as the main program or if it is being imported as a module into another script.\n",
        "\n",
        "When a Python script is executed, Python sets the __name__ variable to '__main__' only if the script is the entry point of the program. If the script is being imported as a module, __name__ is set to the name of the module.\n",
        "\n",
        "Therefore, if __name__ == '__main__': is a common Python idiom that allows you to check if the script is being run directly (not imported as a module). The code inside this block will only be executed if the script is the main program."
      ],
      "metadata": {
        "id": "ou2twwdm33Tq"
      }
    },
    {
      "cell_type": "markdown",
      "source": [
        "##view:\n",
        "a \"view\" typically refers to a function that handles a specific route in a web application. In the context of web development, a route is a URL pattern that the application is designed to respond to. When a user makes a request to a specific URL, the corresponding view function is executed to generate the response."
      ],
      "metadata": {
        "id": "FFNU8SpWzPHH"
      }
    },
    {
      "cell_type": "code",
      "source": [
        "from flask import Flask\n",
        "\n",
        "app = Flask(__name__)\n",
        "\n",
        "@app.route('/')\n",
        "def index():\n",
        "    return 'Hello, World!'\n",
        "\n",
        "if __name__ == '__main__':\n",
        "    app.run(debug=True)\n",
        "\n",
        "\"\"\"In this example, @app.route('/') is a decorator that associates the / URL with the index function. When a user accesses\n",
        "  the root URL (http://127.0.0.1:5000/ in this case), the index function is called, and it returns the string 'Hello, World!'\n",
        "  as the response.\"\"\"\n"
      ],
      "metadata": {
        "id": "MTUiN9q1zM6Z"
      },
      "execution_count": null,
      "outputs": []
    },
    {
      "cell_type": "markdown",
      "source": [
        "#3: Routing and URL Handling\n",
        "    Defining Routes\n",
        "    Handling URL Parameters\n",
        "    URL Building in Flask"
      ],
      "metadata": {
        "id": "04xfibgA3qyB"
      }
    },
    {
      "cell_type": "markdown",
      "source": [
        "###Url Handling in flask"
      ],
      "metadata": {
        "id": "J8QRyokn1DGc"
      }
    },
    {
      "cell_type": "code",
      "source": [
        "\"\"\"3: Routing and URL Handling\n",
        "    Defining Routes\n",
        "    Handling URL Parameters\n",
        "    URL Building in Flask\"\"\"\n",
        "\n",
        "from flask import Flask,redirect,url_for\n",
        "app = Flask(__name__)\n",
        "@app.route('/')\n",
        "def hello():\n",
        "    return 'hello, world'\n",
        "@app.route('/<name>')\n",
        "def helloname(name):\n",
        "    return \"hello : \" + name\n",
        "\n",
        "@app.route('/<int:date>')\n",
        "def helldate(date):\n",
        "    return \"Date = %d\" %  date\n",
        "\n",
        "\n",
        "@app.route('/<float:salary>')\n",
        "def hellosalary(salary):\n",
        "    return \"Salary = %f\" %  salary\n",
        "\n",
        "\n",
        "@app.route('/faculty')\n",
        "def faculty():\n",
        "    return \"Welcome faculty\"\n",
        "\n",
        "\n",
        "@app.route('/student')\n",
        "def student():\n",
        "    return \"Welcome student\"\n",
        "\n",
        "\n",
        "@app.route('/user/<name>')\n",
        "def user(name):\n",
        "    if name == 'student':\n",
        "        return redirect(url_for('student'))\n",
        "    if name == 'faculty':\n",
        "        return redirect(url_for('faculty'))\n",
        "\n",
        "\n",
        "if __name__ == '__main__': #Run the App\n",
        "                           #When debug mode is enabled, the server will automatically reload the application when code changes are detected, and it provides more detailed error messages in the browser.\n",
        "    app.run(debug=True)"
      ],
      "metadata": {
        "id": "tfYQ1NpJzUBL"
      },
      "execution_count": null,
      "outputs": []
    },
    {
      "cell_type": "markdown",
      "source": [
        "##Flask URL Building\n",
        "\n",
        "\n",
        "The url_for() function is used to build a URL to the specific function dynamically. The first argument is the name of the specified function, and then we can pass any number of keyword argument corresponding to the variable part of the URL.\n",
        "\n",
        "This function is useful in the sense that we can avoid hard-coding the URLs into the templates by dynamically building them using this function.\n"
      ],
      "metadata": {
        "id": "Sr67-E6p1kkW"
      }
    },
    {
      "cell_type": "code",
      "source": [
        "from flask import *\n",
        "\n",
        "app = Flask(__name__)\n",
        "\n",
        "@app.route('/admin')\n",
        "def admin():\n",
        "    return 'admin'\n",
        "\n",
        "@app.route('/librarion')\n",
        "def librarion():\n",
        "    return 'librarion'\n",
        "\n",
        "@app.route('/student')\n",
        "def student():\n",
        "    return 'student'\n",
        "\n",
        "@app.route('/user/<name>')\n",
        "def user(name):\n",
        "    if name == 'admin':\n",
        "        return redirect(url_for('admin'))\n",
        "    if name == 'librarion':\n",
        "        return redirect(url_for('librarion'))\n",
        "    if name == 'student':\n",
        "        return redirect(url_for('student'))\n",
        "if __name__ =='__main__':\n",
        "    app.run(debug = True)"
      ],
      "metadata": {
        "id": "ihXL8jk61mX3"
      },
      "execution_count": null,
      "outputs": []
    },
    {
      "cell_type": "markdown",
      "source": [
        "##Templates in Flask\n",
        "    Jinja2 Templating Engine\n",
        "    Creating and Rendering Templates\n",
        "    Template Inheritance"
      ],
      "metadata": {
        "id": "0pu_U3pn3j6b"
      }
    },
    {
      "cell_type": "markdown",
      "source": [
        "\n",
        "In Flask, templates are used to generate dynamic HTML content by combining static HTML with dynamic data. Flask uses the Jinja2 templating engine to facilitate this process. Jinja2 is a popular and powerful template engine for Python that allows you to embed dynamic content, control structures, and expressions directly into HTML files."
      ],
      "metadata": {
        "id": "ys7atn7pTWvg"
      }
    },
    {
      "cell_type": "markdown",
      "source": [
        "###Login system"
      ],
      "metadata": {
        "id": "nX84LpKEeC7d"
      }
    },
    {
      "cell_type": "code",
      "source": [
        "#app.py\n",
        "\n",
        "from flask import Flask, render_template, request, redirect, url_for, flash,session\n",
        "import secrets\n",
        "app = Flask(__name__)\n",
        "app.secret_key = secrets.token_hex(16)\n",
        "\n",
        "users = {'user1': 'password1', 'user2': 'password2'}\n",
        "\n",
        "@app.route('/')\n",
        "def home():\n",
        "    return render_template('index.html')\n",
        "\n",
        "@app.route('/login', methods=['GET', 'POST'])\n",
        "def login():\n",
        "    if request.method == 'POST':\n",
        "        username = request.form['username']\n",
        "        password = request.form['password']\n",
        "\n",
        "        if username in users and users[username] == password:\n",
        "            # Successful login, store user in session\n",
        "            session['username'] = username\n",
        "            flash('Login successful!', 'success')\n",
        "            return redirect(url_for('dashboard'))\n",
        "        else:\n",
        "            flash('Invalid username or password', 'error')\n",
        "\n",
        "    return render_template('login.html')\n",
        "\n",
        "@app.route('/dashboard')\n",
        "def dashboard():\n",
        "    if 'username' in session:\n",
        "        return render_template('dashboard.html', username=session['username'])\n",
        "    else:\n",
        "        return redirect(url_for('login'))\n",
        "\n",
        "@app.route('/logout')\n",
        "def logout():\n",
        "    session.pop('username', None)\n",
        "    flash('Logged out successfully!', 'success')\n",
        "    return redirect(url_for('login'))\n",
        "\n",
        "if __name__ == '__main__':\n",
        "    app.run(debug=True)\n"
      ],
      "metadata": {
        "id": "YvlAi0Xd3hXL"
      },
      "execution_count": null,
      "outputs": []
    },
    {
      "cell_type": "code",
      "source": [
        "#index.html\n",
        "<!DOCTYPE html>\n",
        "<html lang=\"en\">\n",
        "<head>\n",
        "    <meta charset=\"UTF-8\">\n",
        "    <meta http-equiv=\"X-UA-Compatible\" content=\"IE=edge\">\n",
        "    <meta name=\"viewport\" content=\"width=device-width, initial-scale=1.0\">\n",
        "    <title>Home</title>\n",
        "</head>\n",
        "<body>\n",
        "    <h1>Welcome to the Home Page</h1>\n",
        "    <p><a href=\"{{ url_for('login') }}\">Login</a></p>\n",
        "</body>\n",
        "</html>\n"
      ],
      "metadata": {
        "id": "rj_5pd8cdgfS"
      },
      "execution_count": null,
      "outputs": []
    },
    {
      "cell_type": "code",
      "source": [
        "#deshboad.html\n",
        "<!DOCTYPE html>\n",
        "<html lang=\"en\">\n",
        "<head>\n",
        "    <meta charset=\"UTF-8\">\n",
        "    <meta http-equiv=\"X-UA-Compatible\" content=\"IE=edge\">\n",
        "    <meta name=\"viewport\" content=\"width=device-width, initial-scale=1.0\">\n",
        "    <title>Dashboard</title>\n",
        "</head>\n",
        "<body>\n",
        "    <h1>Welcome, {{ username }}!</h1>\n",
        "    <p><a href=\"{{ url_for('logout') }}\">Logout</a></p>\n",
        "</body>\n",
        "</html>\n"
      ],
      "metadata": {
        "id": "4yS8KSCndjXG"
      },
      "execution_count": null,
      "outputs": []
    },
    {
      "cell_type": "code",
      "source": [
        "#login.html\n",
        "<!DOCTYPE html>\n",
        "<html lang=\"en\">\n",
        "<head>\n",
        "    <meta charset=\"UTF-8\">\n",
        "    <meta http-equiv=\"X-UA-Compatible\" content=\"IE=edge\">\n",
        "    <meta name=\"viewport\" content=\"width=device-width, initial-scale=1.0\">\n",
        "    <title>Login</title>\n",
        "</head>\n",
        "<body>\n",
        "    <h1>Login</h1>\n",
        "    {% with messages = get_flashed_messages() %}\n",
        "        {% if messages %}\n",
        "            <ul>\n",
        "                {% for message in messages %}\n",
        "                    <li style=\"color: {% if 'error' in message %}red{% else %}green{% endif %};\">{{ message }}</li>\n",
        "                {% endfor %}\n",
        "            </ul>\n",
        "        {% endif %}\n",
        "    {% endwith %}\n",
        "    <form method=\"post\" action=\"{{ url_for('login') }}\">\n",
        "        <label for=\"username\">Username:</label>\n",
        "        <input type=\"text\" id=\"username\" name=\"username\" required><br>\n",
        "        <label for=\"password\">Password:</label>\n",
        "        <input type=\"password\" id=\"password\" name=\"password\" required><br>\n",
        "        <input type=\"submit\" value=\"Login\">\n",
        "    </form>\n",
        "</body>\n",
        "</html>\n"
      ],
      "metadata": {
        "id": "7muR6ZHLd-Hr"
      },
      "execution_count": null,
      "outputs": []
    }
  ]
}