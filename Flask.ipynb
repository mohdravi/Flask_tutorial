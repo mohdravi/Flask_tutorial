{
  "nbformat": 4,
  "nbformat_minor": 0,
  "metadata": {
    "colab": {
      "provenance": [],
      "authorship_tag": "ABX9TyOPgoH+0IRz9G9glLLW9s7m",
      "include_colab_link": true
    },
    "kernelspec": {
      "name": "python3",
      "display_name": "Python 3"
    },
    "language_info": {
      "name": "python"
    }
  },
  "cells": [
    {
      "cell_type": "markdown",
      "metadata": {
        "id": "view-in-github",
        "colab_type": "text"
      },
      "source": [
        "<a href=\"https://colab.research.google.com/github/mohdraavi/flask_tut/blob/main/Flask.ipynb\" target=\"_parent\"><img src=\"https://colab.research.google.com/assets/colab-badge.svg\" alt=\"Open In Colab\"/></a>"
      ]
    },
    {
      "cell_type": "markdown",
      "source": [
        "#Web Framework\n",
        "Web Application Framework or simply Web Framework represents a collection of libraries and modules that enables a web application developer to write applications without having to bother about low-level details such as protocols, thread management etc."
      ],
      "metadata": {
        "id": "JxW8R4NpTAgv"
      }
    },
    {
      "cell_type": "markdown",
      "source": [
        "#Web Server Gateway Interface\n",
        "The Web Server Gateway Interface (WSGI) is a specification for a simple and universal interface between web servers and Python web applications or frameworks. It defines a standard interface that allows web servers to communicate with Python web applications, enabling the development of web applications that can run on various web servers without modification."
      ],
      "metadata": {
        "id": "eNslBwvUTUwt"
      }
    },
    {
      "cell_type": "markdown",
      "source": [
        "#Werkzeug\n",
        "It is a WSGI toolkit, which implements requests, response objects, and other utility functions. This enables building a web framework on top of it. The Flask framework uses Werkzeug as one of its bases.\n"
      ],
      "metadata": {
        "id": "x8Ugp-VyxlSM"
      }
    },
    {
      "cell_type": "markdown",
      "source": [
        "#Jinja2\n",
        "\n",
        "Jinja2 is a popular and widely used template engine for Python. It is often used in web development frameworks, such as Flask and Django, to dynamically generate HTML, XML, or other markup languages. Jinja2 allows developers to embed dynamic content and control structures directly within templates, making it easier to separate the presentation layer from the application logic.\n",
        "\n",
        "###Template Syntax:\n",
        "\n",
        "Jinja2 uses a simple and readable template syntax, which consists of tags, variables, and control statements enclosed in curly braces ({{ ... }}, {% ... %}). This syntax allows developers to embed dynamic content and logic directly within the template."
      ],
      "metadata": {
        "id": "EnwGEoKYx6DU"
      }
    },
    {
      "cell_type": "markdown",
      "source": [
        "#1: Setting Up Your Environment\n",
        "    Installing Python\n",
        "    Installing Flask\n",
        "    Creating a Virtual Environment"
      ],
      "metadata": {
        "id": "__hFPG3wyp5p"
      }
    },
    {
      "cell_type": "markdown",
      "source": [
        "Download python from given link and then install\n",
        "https://www.python.org/downloads/release/python-3120/"
      ],
      "metadata": {
        "id": "LkfpBb1Ny0Fr"
      }
    },
    {
      "cell_type": "code",
      "source": [
        "#installing flask\n",
        "pip install Flask\n",
        "from flask import Flask"
      ],
      "metadata": {
        "id": "hH6v9W7OyuC7"
      },
      "execution_count": null,
      "outputs": []
    },
    {
      "cell_type": "code",
      "source": [
        "#To create virtual envoirment\n",
        "python -m venv venv\n",
        "#to activate\n",
        "venv\\Scripts\\activate"
      ],
      "metadata": {
        "id": "My-nJKPfzK90"
      },
      "execution_count": null,
      "outputs": []
    },
    {
      "cell_type": "markdown",
      "source": [
        "#2: Your First Flask App\n",
        "    Creating a Basic Flask App\n",
        "    Understanding Routes and Views\n",
        "    Running Your Flask App"
      ],
      "metadata": {
        "id": "VDF_Qm9_0bxr"
      }
    },
    {
      "cell_type": "code",
      "source": [
        "pip install flask"
      ],
      "metadata": {
        "id": "Afn4HSN7zs5E"
      },
      "execution_count": null,
      "outputs": []
    },
    {
      "cell_type": "code",
      "source": [
        "#Now, let's create a simple Flask app. Create a file named app.py:\n",
        "from flask import Flask\n",
        "\n",
        "\n",
        "app = Flask(__name__) #Create Flask App:\n",
        "\"\"\"This line creates an instance of the Flask class. The __name__ variable is a special Python variable that is set to the\n",
        "name of the current module. It is used by Flask to determine the root path of the application.\"\"\"\n",
        "\n",
        "@app.route('/')       #Define a Route\n",
        "\n",
        "\"\"\"This line is a decorator that tells Flask\n",
        "which URL should trigger the following function. In this case, the function hello_world() will be triggered\n",
        "when the user accesses the root URL ('/')\"\"\"\n",
        "def hello_world():     #Define a View Function\n",
        "    return 'Hello, World!'\n",
        "\n",
        "if __name__ == '__main__':   #Run the App\n",
        "    app.run(debug=True)\n",
        "\"\"\"This conditional statement ensures that the development web server is only started\n",
        " if the script is executed directly (as opposed to being imported as a module in another script).\n",
        "  The debug=True parameter enables the debug mode, which provides useful debugging information in case of errors.\n",
        " When you run the script, the Flask development server starts and listens for incoming requests.\"\"\"\""
      ],
      "metadata": {
        "id": "oD78N43a0_Bn"
      },
      "execution_count": null,
      "outputs": []
    },
    {
      "cell_type": "code",
      "source": [
        "#command to run flask app\n",
        "python -m flask run"
      ],
      "metadata": {
        "id": "PXpQCqFo3XjR"
      },
      "execution_count": null,
      "outputs": []
    },
    {
      "cell_type": "markdown",
      "source": [
        "if __name__ == '__main__'::\n",
        "\n",
        "The __name__ variable is a special variable in Python that is used to determine if the Python script is being run as the main program or if it is being imported as a module into another script.\n",
        "\n",
        "When a Python script is executed, Python sets the __name__ variable to '__main__' only if the script is the entry point of the program. If the script is being imported as a module, __name__ is set to the name of the module.\n",
        "\n",
        "Therefore, if __name__ == '__main__': is a common Python idiom that allows you to check if the script is being run directly (not imported as a module). The code inside this block will only be executed if the script is the main program."
      ],
      "metadata": {
        "id": "ou2twwdm33Tq"
      }
    }
  ]
}